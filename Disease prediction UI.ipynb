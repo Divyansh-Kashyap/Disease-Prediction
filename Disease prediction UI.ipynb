{
 "cells": [
  {
   "cell_type": "code",
   "execution_count": 1,
   "id": "2a5b7275-b02b-4cfe-a368-d57b1cf2200f",
   "metadata": {},
   "outputs": [
    {
     "name": "stderr",
     "output_type": "stream",
     "text": [
      "WARNING:absl:Compiled the loaded model, but the compiled metrics have yet to be built. `model.compile_metrics` will be empty until you train or evaluate the model.\n"
     ]
    }
   ],
   "source": [
    "from tensorflow.keras.models import load_model\n",
    "model = load_model('pred.h5')"
   ]
  },
  {
   "cell_type": "code",
   "execution_count": 2,
   "id": "5b0415b4-36b3-4dec-b9db-6272679506b5",
   "metadata": {},
   "outputs": [],
   "source": [
    "import pandas as pd\n",
    "\n",
    "df = pd.read_csv(\"medical_data.csv\")  # Make sure the path is correct\n"
   ]
  },
  {
   "cell_type": "code",
   "execution_count": 3,
   "id": "b26cc285-7233-46f0-b362-6c71499d8546",
   "metadata": {},
   "outputs": [],
   "source": [
    "from tensorflow.keras.preprocessing.text import Tokenizer\n",
    "\n",
    "texts = df['Patient_Problem'].astype(str).tolist()  # Replace 'Problems' if column name is different\n",
    "\n",
    "tokenizer = Tokenizer(num_words=5000, oov_token=\"<OOV>\")\n",
    "tokenizer.fit_on_texts(texts)\n",
    "\n",
    "# Set max_length based on what you used during training, or estimate it\n",
    "max_length = max([len(x.split()) for x in texts])\n"
   ]
  },
  {
   "cell_type": "code",
   "execution_count": 4,
   "id": "a1c1f4be-aaec-404f-bfba-2e8db99efcc5",
   "metadata": {},
   "outputs": [],
   "source": [
    "import pickle\n",
    "\n",
    "with open(\"tokenizer.pkl\", \"wb\") as f:\n",
    "    pickle.dump(tokenizer, f)\n"
   ]
  },
  {
   "cell_type": "code",
   "execution_count": 5,
   "id": "fb7ef7b1-b5b5-45dc-9490-59d2105911a3",
   "metadata": {},
   "outputs": [],
   "source": [
    "import pickle\n",
    "from sklearn.preprocessing import LabelEncoder\n",
    "\n",
    "# Assuming you have these columns in your DataFrame\n",
    "label_encoder_disease = LabelEncoder()\n",
    "label_encoder_prescription = LabelEncoder()\n",
    "\n",
    "df['Disease'] = label_encoder_disease.fit_transform(df['Disease'])\n",
    "df['Prescription'] = label_encoder_prescription.fit_transform(df['Prescription'])\n",
    "\n",
    "# Save them to files\n",
    "with open(\"label_encoder_disease.pkl\", \"wb\") as f:\n",
    "    pickle.dump(label_encoder_disease, f)\n",
    "\n",
    "with open(\"label_encoder_prescription.pkl\", \"wb\") as f:\n",
    "    pickle.dump(label_encoder_prescription, f)\n"
   ]
  },
  {
   "cell_type": "code",
   "execution_count": 6,
   "id": "4b63753a-d80e-4ecb-9c4b-1d92e1daecc6",
   "metadata": {},
   "outputs": [],
   "source": [
    "with open(\"label_encoder_disease.pkl\", \"rb\") as f:\n",
    "    label_encoder_disease = pickle.load(f)\n",
    "\n",
    "with open(\"label_encoder_prescription.pkl\", \"rb\") as f:\n",
    "    label_encoder_prescription = pickle.load(f)\n"
   ]
  },
  {
   "cell_type": "code",
   "execution_count": 7,
   "id": "58db5aa1-3c7a-4516-bd2e-0813d4685fd7",
   "metadata": {},
   "outputs": [],
   "source": [
    "from tensorflow.keras.preprocessing.sequence import pad_sequences\n",
    "def make_prediction(patient_problem):\n",
    "    try:\n",
    "        sequence = tokenizer.texts_to_sequences([patient_problem])\n",
    "        padded_sequence = pad_sequences(sequence, maxlen=max_length, padding='post')\n",
    "\n",
    "        prediction = model.predict(padded_sequence)\n",
    "\n",
    "        disease_index = np.argmax(prediction[0], axis=1)[0]\n",
    "        prescription_index = np.argmax(prediction[1], axis=1)[0]\n",
    "\n",
    "        disease_predicted = label_encoder_disease.inverse_transform([disease_index])[0]\n",
    "        prescription_predicted = label_encoder_prescription.inverse_transform([prescription_index])[0]\n",
    "\n",
    "        return f\"🩺 Predicted Disease: {disease_predicted}\\n💊 Suggested Prescription: {prescription_predicted}\"\n",
    "    \n",
    "    except Exception as e:\n",
    "        return f\"❌ Error: {str(e)}\"\n"
   ]
  },
  {
   "cell_type": "code",
   "execution_count": 20,
   "id": "8dbf98f2-d0a5-41d1-b7b5-99561551531c",
   "metadata": {},
   "outputs": [
    {
     "name": "stdout",
     "output_type": "stream",
     "text": [
      "* Running on local URL:  http://127.0.0.1:7872\n",
      "* Running on public URL: https://761db6159a7287f45d.gradio.live\n",
      "\n",
      "This share link expires in 1 week. For free permanent hosting and GPU upgrades, run `gradio deploy` from the terminal in the working directory to deploy to Hugging Face Spaces (https://huggingface.co/spaces)\n"
     ]
    },
    {
     "data": {
      "text/html": [
       "<div><iframe src=\"https://761db6159a7287f45d.gradio.live\" width=\"100%\" height=\"500\" allow=\"autoplay; camera; microphone; clipboard-read; clipboard-write;\" frameborder=\"0\" allowfullscreen></iframe></div>"
      ],
      "text/plain": [
       "<IPython.core.display.HTML object>"
      ]
     },
     "metadata": {},
     "output_type": "display_data"
    },
    {
     "data": {
      "text/plain": []
     },
     "execution_count": 20,
     "metadata": {},
     "output_type": "execute_result"
    }
   ],
   "source": [
    "import gradio as gr\n",
    "import numpy as np\n",
    "\n",
    "interface = gr.Interface(\n",
    "    fn=make_prediction,\n",
    "    inputs=gr.Textbox(lines=5, label=\"Describe Patient's Symptoms\"),\n",
    "    outputs=\"text\",\n",
    "    title=\"🧠 Medical Disease Predictor\",\n",
    "    description=\"Input symptoms and get a disease prediction with suggested prescription.\",\n",
    ")\n",
    "\n",
    "interface.launch(share=True)  # Use inline=True inside Jupyter Notebook\n"
   ]
  },
  {
   "cell_type": "code",
   "execution_count": null,
   "id": "48287848-c96e-476d-89f3-8654639dddd5",
   "metadata": {},
   "outputs": [],
   "source": []
  }
 ],
 "metadata": {
  "kernelspec": {
   "display_name": "Python 3 (ipykernel)",
   "language": "python",
   "name": "python3"
  },
  "language_info": {
   "codemirror_mode": {
    "name": "ipython",
    "version": 3
   },
   "file_extension": ".py",
   "mimetype": "text/x-python",
   "name": "python",
   "nbconvert_exporter": "python",
   "pygments_lexer": "ipython3",
   "version": "3.12.4"
  }
 },
 "nbformat": 4,
 "nbformat_minor": 5
}
