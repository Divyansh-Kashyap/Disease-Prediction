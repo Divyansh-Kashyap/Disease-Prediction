{
 "cells": [
  {
   "cell_type": "code",
   "execution_count": 1,
   "id": "a67d830e-ac22-4e91-9ef2-a25c3049f8cd",
   "metadata": {},
   "outputs": [],
   "source": [
    "import pandas as pd\n",
    "import numpy as np\n",
    "from tensorflow.keras.preprocessing.text import Tokenizer\n",
    "from tensorflow.keras.preprocessing.sequence import pad_sequences\n",
    "from tensorflow.keras.utils import to_categorical\n",
    "from sklearn.preprocessing import LabelEncoder\n",
    "from tensorflow.keras.models import Model\n",
    "from tensorflow.keras.layers import Input, Embedding, LSTM, Dense"
   ]
  },
  {
   "cell_type": "code",
   "execution_count": 2,
   "id": "2fe0912a-700a-4cae-b146-346f4efc1c6b",
   "metadata": {},
   "outputs": [
    {
     "data": {
      "text/html": [
       "<div>\n",
       "<style scoped>\n",
       "    .dataframe tbody tr th:only-of-type {\n",
       "        vertical-align: middle;\n",
       "    }\n",
       "\n",
       "    .dataframe tbody tr th {\n",
       "        vertical-align: top;\n",
       "    }\n",
       "\n",
       "    .dataframe thead th {\n",
       "        text-align: right;\n",
       "    }\n",
       "</style>\n",
       "<table border=\"1\" class=\"dataframe\">\n",
       "  <thead>\n",
       "    <tr style=\"text-align: right;\">\n",
       "      <th></th>\n",
       "      <th>Patient_Problem</th>\n",
       "      <th>Disease</th>\n",
       "      <th>Prescription</th>\n",
       "    </tr>\n",
       "  </thead>\n",
       "  <tbody>\n",
       "    <tr>\n",
       "      <th>0</th>\n",
       "      <td>Constant fatigue and muscle weakness, struggli...</td>\n",
       "      <td>Chronic Fatigue Syndrome</td>\n",
       "      <td>Cognitive behavioral therapy, graded exercise ...</td>\n",
       "    </tr>\n",
       "    <tr>\n",
       "      <th>1</th>\n",
       "      <td>Frequent severe migraines, sensitivity to ligh...</td>\n",
       "      <td>Migraine with Aura</td>\n",
       "      <td>Prescription triptans, avoid triggers like bri...</td>\n",
       "    </tr>\n",
       "    <tr>\n",
       "      <th>2</th>\n",
       "      <td>Sudden weight gain and feeling cold, especiall...</td>\n",
       "      <td>Hypothyroidism</td>\n",
       "      <td>Levothyroxine to regulate thyroid hormone levels.</td>\n",
       "    </tr>\n",
       "    <tr>\n",
       "      <th>3</th>\n",
       "      <td>High fever, sore throat, and swollen lymph nod...</td>\n",
       "      <td>Mononucleosis</td>\n",
       "      <td>Rest and hydration, ibuprofen for pain.</td>\n",
       "    </tr>\n",
       "    <tr>\n",
       "      <th>4</th>\n",
       "      <td>Excessive thirst and frequent urination, dry m...</td>\n",
       "      <td>Diabetes Mellitus</td>\n",
       "      <td>Insulin therapy and lifestyle changes.</td>\n",
       "    </tr>\n",
       "  </tbody>\n",
       "</table>\n",
       "</div>"
      ],
      "text/plain": [
       "                                     Patient_Problem  \\\n",
       "0  Constant fatigue and muscle weakness, struggli...   \n",
       "1  Frequent severe migraines, sensitivity to ligh...   \n",
       "2  Sudden weight gain and feeling cold, especiall...   \n",
       "3  High fever, sore throat, and swollen lymph nod...   \n",
       "4  Excessive thirst and frequent urination, dry m...   \n",
       "\n",
       "                    Disease                                       Prescription  \n",
       "0  Chronic Fatigue Syndrome  Cognitive behavioral therapy, graded exercise ...  \n",
       "1        Migraine with Aura  Prescription triptans, avoid triggers like bri...  \n",
       "2            Hypothyroidism  Levothyroxine to regulate thyroid hormone levels.  \n",
       "3             Mononucleosis            Rest and hydration, ibuprofen for pain.  \n",
       "4         Diabetes Mellitus             Insulin therapy and lifestyle changes.  "
      ]
     },
     "execution_count": 2,
     "metadata": {},
     "output_type": "execute_result"
    }
   ],
   "source": [
    "data=pd.read_csv(\"medical_data.csv\")\n",
    "data.head()"
   ]
  },
  {
   "cell_type": "code",
   "execution_count": 3,
   "id": "5081723a-a767-4218-9923-647cc10914d2",
   "metadata": {},
   "outputs": [],
   "source": [
    "tokenizer=Tokenizer(num_words=5000, oov_token=\"<OOV>\")\n",
    "tokenizer.fit_on_texts(data['Patient_Problem'])\n",
    "\n",
    "sequences=tokenizer.texts_to_sequences(data['Patient_Problem'])"
   ]
  },
  {
   "cell_type": "code",
   "execution_count": 4,
   "id": "aa9c637d-954c-4a1d-ab11-4b96ac81236e",
   "metadata": {},
   "outputs": [],
   "source": [
    "max_length= max(len(x)for x in sequences)\n",
    "padded_sequences= pad_sequences(sequences, maxlen=max_length, padding='post')"
   ]
  },
  {
   "cell_type": "code",
   "execution_count": 5,
   "id": "03149ef2-0320-48d4-ada3-4db3aa65b200",
   "metadata": {},
   "outputs": [],
   "source": [
    "label_encoder_disease= LabelEncoder()\n",
    "label_encoder_prescription= LabelEncoder()\n",
    "\n",
    "disease_labels= label_encoder_disease.fit_transform(data['Disease'])\n",
    "prescription_labels= label_encoder_prescription.fit_transform(data['Prescription'])\n",
    "\n",
    "disease_labels_categorical= to_categorical(disease_labels)\n",
    "prescription_labels_categorical= to_categorical(prescription_labels)"
   ]
  },
  {
   "cell_type": "code",
   "execution_count": 6,
   "id": "5380c54b-d93e-4fd0-9aec-0dfad398a9b1",
   "metadata": {},
   "outputs": [],
   "source": [
    "Y=np.hstack((disease_labels_categorical, prescription_labels_categorical))"
   ]
  },
  {
   "cell_type": "code",
   "execution_count": 7,
   "id": "c7595785-a492-49c3-8d8d-fac097ff12b0",
   "metadata": {},
   "outputs": [],
   "source": [
    "input_layer= Input(shape=(max_length,))\n",
    "\n",
    "embedding= Embedding(input_dim=5000, output_dim=64)(input_layer)\n",
    "lstm_layer= LSTM(64)(embedding)\n",
    "\n",
    "disease_output= Dense(len(label_encoder_disease.classes_), activation='softmax', name='disease_output')(lstm_layer)\n",
    "prescription_output= Dense(len(label_encoder_prescription.classes_), activation='softmax', name='prescription_output')(lstm_layer)"
   ]
  },
  {
   "cell_type": "code",
   "execution_count": 8,
   "id": "73972611-4bbd-4c74-ab5a-8914d522c8cf",
   "metadata": {},
   "outputs": [
    {
     "data": {
      "text/html": [
       "<pre style=\"white-space:pre;overflow-x:auto;line-height:normal;font-family:Menlo,'DejaVu Sans Mono',consolas,'Courier New',monospace\"><span style=\"font-weight: bold\">Model: \"functional\"</span>\n",
       "</pre>\n"
      ],
      "text/plain": [
       "\u001b[1mModel: \"functional\"\u001b[0m\n"
      ]
     },
     "metadata": {},
     "output_type": "display_data"
    },
    {
     "data": {
      "text/html": [
       "<pre style=\"white-space:pre;overflow-x:auto;line-height:normal;font-family:Menlo,'DejaVu Sans Mono',consolas,'Courier New',monospace\">┏━━━━━━━━━━━━━━━━━━━━━━━━━━━━━━━┳━━━━━━━━━━━━━━━━━━━━━━━━━━━┳━━━━━━━━━━━━━━━━━┳━━━━━━━━━━━━━━━━━━━━━━━━━━━━┓\n",
       "┃<span style=\"font-weight: bold\"> Layer (type)                  </span>┃<span style=\"font-weight: bold\"> Output Shape              </span>┃<span style=\"font-weight: bold\">         Param # </span>┃<span style=\"font-weight: bold\"> Connected to               </span>┃\n",
       "┡━━━━━━━━━━━━━━━━━━━━━━━━━━━━━━━╇━━━━━━━━━━━━━━━━━━━━━━━━━━━╇━━━━━━━━━━━━━━━━━╇━━━━━━━━━━━━━━━━━━━━━━━━━━━━┩\n",
       "│ input_layer (<span style=\"color: #0087ff; text-decoration-color: #0087ff\">InputLayer</span>)      │ (<span style=\"color: #00d7ff; text-decoration-color: #00d7ff\">None</span>, <span style=\"color: #00af00; text-decoration-color: #00af00\">17</span>)                │               <span style=\"color: #00af00; text-decoration-color: #00af00\">0</span> │ -                          │\n",
       "├───────────────────────────────┼───────────────────────────┼─────────────────┼────────────────────────────┤\n",
       "│ embedding (<span style=\"color: #0087ff; text-decoration-color: #0087ff\">Embedding</span>)         │ (<span style=\"color: #00d7ff; text-decoration-color: #00d7ff\">None</span>, <span style=\"color: #00af00; text-decoration-color: #00af00\">17</span>, <span style=\"color: #00af00; text-decoration-color: #00af00\">64</span>)            │         <span style=\"color: #00af00; text-decoration-color: #00af00\">320,000</span> │ input_layer[<span style=\"color: #00af00; text-decoration-color: #00af00\">0</span>][<span style=\"color: #00af00; text-decoration-color: #00af00\">0</span>]          │\n",
       "├───────────────────────────────┼───────────────────────────┼─────────────────┼────────────────────────────┤\n",
       "│ lstm (<span style=\"color: #0087ff; text-decoration-color: #0087ff\">LSTM</span>)                   │ (<span style=\"color: #00d7ff; text-decoration-color: #00d7ff\">None</span>, <span style=\"color: #00af00; text-decoration-color: #00af00\">64</span>)                │          <span style=\"color: #00af00; text-decoration-color: #00af00\">33,024</span> │ embedding[<span style=\"color: #00af00; text-decoration-color: #00af00\">0</span>][<span style=\"color: #00af00; text-decoration-color: #00af00\">0</span>]            │\n",
       "├───────────────────────────────┼───────────────────────────┼─────────────────┼────────────────────────────┤\n",
       "│ disease_output (<span style=\"color: #0087ff; text-decoration-color: #0087ff\">Dense</span>)        │ (<span style=\"color: #00d7ff; text-decoration-color: #00d7ff\">None</span>, <span style=\"color: #00af00; text-decoration-color: #00af00\">178</span>)               │          <span style=\"color: #00af00; text-decoration-color: #00af00\">11,570</span> │ lstm[<span style=\"color: #00af00; text-decoration-color: #00af00\">0</span>][<span style=\"color: #00af00; text-decoration-color: #00af00\">0</span>]                 │\n",
       "├───────────────────────────────┼───────────────────────────┼─────────────────┼────────────────────────────┤\n",
       "│ prescription_output (<span style=\"color: #0087ff; text-decoration-color: #0087ff\">Dense</span>)   │ (<span style=\"color: #00d7ff; text-decoration-color: #00d7ff\">None</span>, <span style=\"color: #00af00; text-decoration-color: #00af00\">388</span>)               │          <span style=\"color: #00af00; text-decoration-color: #00af00\">25,220</span> │ lstm[<span style=\"color: #00af00; text-decoration-color: #00af00\">0</span>][<span style=\"color: #00af00; text-decoration-color: #00af00\">0</span>]                 │\n",
       "└───────────────────────────────┴───────────────────────────┴─────────────────┴────────────────────────────┘\n",
       "</pre>\n"
      ],
      "text/plain": [
       "┏━━━━━━━━━━━━━━━━━━━━━━━━━━━━━━━┳━━━━━━━━━━━━━━━━━━━━━━━━━━━┳━━━━━━━━━━━━━━━━━┳━━━━━━━━━━━━━━━━━━━━━━━━━━━━┓\n",
       "┃\u001b[1m \u001b[0m\u001b[1mLayer (type)                 \u001b[0m\u001b[1m \u001b[0m┃\u001b[1m \u001b[0m\u001b[1mOutput Shape             \u001b[0m\u001b[1m \u001b[0m┃\u001b[1m \u001b[0m\u001b[1m        Param #\u001b[0m\u001b[1m \u001b[0m┃\u001b[1m \u001b[0m\u001b[1mConnected to              \u001b[0m\u001b[1m \u001b[0m┃\n",
       "┡━━━━━━━━━━━━━━━━━━━━━━━━━━━━━━━╇━━━━━━━━━━━━━━━━━━━━━━━━━━━╇━━━━━━━━━━━━━━━━━╇━━━━━━━━━━━━━━━━━━━━━━━━━━━━┩\n",
       "│ input_layer (\u001b[38;5;33mInputLayer\u001b[0m)      │ (\u001b[38;5;45mNone\u001b[0m, \u001b[38;5;34m17\u001b[0m)                │               \u001b[38;5;34m0\u001b[0m │ -                          │\n",
       "├───────────────────────────────┼───────────────────────────┼─────────────────┼────────────────────────────┤\n",
       "│ embedding (\u001b[38;5;33mEmbedding\u001b[0m)         │ (\u001b[38;5;45mNone\u001b[0m, \u001b[38;5;34m17\u001b[0m, \u001b[38;5;34m64\u001b[0m)            │         \u001b[38;5;34m320,000\u001b[0m │ input_layer[\u001b[38;5;34m0\u001b[0m][\u001b[38;5;34m0\u001b[0m]          │\n",
       "├───────────────────────────────┼───────────────────────────┼─────────────────┼────────────────────────────┤\n",
       "│ lstm (\u001b[38;5;33mLSTM\u001b[0m)                   │ (\u001b[38;5;45mNone\u001b[0m, \u001b[38;5;34m64\u001b[0m)                │          \u001b[38;5;34m33,024\u001b[0m │ embedding[\u001b[38;5;34m0\u001b[0m][\u001b[38;5;34m0\u001b[0m]            │\n",
       "├───────────────────────────────┼───────────────────────────┼─────────────────┼────────────────────────────┤\n",
       "│ disease_output (\u001b[38;5;33mDense\u001b[0m)        │ (\u001b[38;5;45mNone\u001b[0m, \u001b[38;5;34m178\u001b[0m)               │          \u001b[38;5;34m11,570\u001b[0m │ lstm[\u001b[38;5;34m0\u001b[0m][\u001b[38;5;34m0\u001b[0m]                 │\n",
       "├───────────────────────────────┼───────────────────────────┼─────────────────┼────────────────────────────┤\n",
       "│ prescription_output (\u001b[38;5;33mDense\u001b[0m)   │ (\u001b[38;5;45mNone\u001b[0m, \u001b[38;5;34m388\u001b[0m)               │          \u001b[38;5;34m25,220\u001b[0m │ lstm[\u001b[38;5;34m0\u001b[0m][\u001b[38;5;34m0\u001b[0m]                 │\n",
       "└───────────────────────────────┴───────────────────────────┴─────────────────┴────────────────────────────┘\n"
      ]
     },
     "metadata": {},
     "output_type": "display_data"
    },
    {
     "data": {
      "text/html": [
       "<pre style=\"white-space:pre;overflow-x:auto;line-height:normal;font-family:Menlo,'DejaVu Sans Mono',consolas,'Courier New',monospace\"><span style=\"font-weight: bold\"> Total params: </span><span style=\"color: #00af00; text-decoration-color: #00af00\">389,814</span> (1.49 MB)\n",
       "</pre>\n"
      ],
      "text/plain": [
       "\u001b[1m Total params: \u001b[0m\u001b[38;5;34m389,814\u001b[0m (1.49 MB)\n"
      ]
     },
     "metadata": {},
     "output_type": "display_data"
    },
    {
     "data": {
      "text/html": [
       "<pre style=\"white-space:pre;overflow-x:auto;line-height:normal;font-family:Menlo,'DejaVu Sans Mono',consolas,'Courier New',monospace\"><span style=\"font-weight: bold\"> Trainable params: </span><span style=\"color: #00af00; text-decoration-color: #00af00\">389,814</span> (1.49 MB)\n",
       "</pre>\n"
      ],
      "text/plain": [
       "\u001b[1m Trainable params: \u001b[0m\u001b[38;5;34m389,814\u001b[0m (1.49 MB)\n"
      ]
     },
     "metadata": {},
     "output_type": "display_data"
    },
    {
     "data": {
      "text/html": [
       "<pre style=\"white-space:pre;overflow-x:auto;line-height:normal;font-family:Menlo,'DejaVu Sans Mono',consolas,'Courier New',monospace\"><span style=\"font-weight: bold\"> Non-trainable params: </span><span style=\"color: #00af00; text-decoration-color: #00af00\">0</span> (0.00 B)\n",
       "</pre>\n"
      ],
      "text/plain": [
       "\u001b[1m Non-trainable params: \u001b[0m\u001b[38;5;34m0\u001b[0m (0.00 B)\n"
      ]
     },
     "metadata": {},
     "output_type": "display_data"
    }
   ],
   "source": [
    "model= Model(inputs=input_layer, outputs=[disease_output, prescription_output])\n",
    "\n",
    "model.compile(\n",
    "    loss={'disease_output': 'categorical_crossentropy', 'prescription_output': 'categorical_crossentropy'},\n",
    "    optimizer='adam',\n",
    "    metrics={'disease_output': ['accuracy'], 'prescription_output': ['accuracy']}\n",
    ")\n",
    "\n",
    "model.summary()"
   ]
  },
  {
   "cell_type": "code",
   "execution_count": 9,
   "id": "51b4f661-12e4-46ab-b013-576be5bba71a",
   "metadata": {},
   "outputs": [
    {
     "name": "stdout",
     "output_type": "stream",
     "text": [
      "Epoch 1/100\n",
      "\u001b[1m13/13\u001b[0m \u001b[32m━━━━━━━━━━━━━━━━━━━━\u001b[0m\u001b[37m\u001b[0m \u001b[1m13s\u001b[0m 42ms/step - disease_output_accuracy: 7.0200e-04 - disease_output_loss: 5.1790 - loss: 11.1430 - prescription_output_accuracy: 0.0000e+00 - prescription_output_loss: 5.9640\n",
      "Epoch 2/100\n",
      "\u001b[1m13/13\u001b[0m \u001b[32m━━━━━━━━━━━━━━━━━━━━\u001b[0m\u001b[37m\u001b[0m \u001b[1m1s\u001b[0m 35ms/step - disease_output_accuracy: 0.0374 - disease_output_loss: 5.1589 - loss: 11.1196 - prescription_output_accuracy: 0.0018 - prescription_output_loss: 5.9608   \n",
      "Epoch 3/100\n",
      "\u001b[1m13/13\u001b[0m \u001b[32m━━━━━━━━━━━━━━━━━━━━\u001b[0m\u001b[37m\u001b[0m \u001b[1m1s\u001b[0m 36ms/step - disease_output_accuracy: 0.0399 - disease_output_loss: 5.1038 - loss: 11.0647 - prescription_output_accuracy: 9.6315e-04 - prescription_output_loss: 5.9611\n",
      "Epoch 4/100\n",
      "\u001b[1m13/13\u001b[0m \u001b[32m━━━━━━━━━━━━━━━━━━━━\u001b[0m\u001b[37m\u001b[0m \u001b[1m1s\u001b[0m 36ms/step - disease_output_accuracy: 0.0364 - disease_output_loss: 4.9862 - loss: 10.9571 - prescription_output_accuracy: 0.0081 - prescription_output_loss: 5.9710\n",
      "Epoch 5/100\n",
      "\u001b[1m13/13\u001b[0m \u001b[32m━━━━━━━━━━━━━━━━━━━━\u001b[0m\u001b[37m\u001b[0m \u001b[1m1s\u001b[0m 36ms/step - disease_output_accuracy: 0.0368 - disease_output_loss: 4.9366 - loss: 10.8703 - prescription_output_accuracy: 0.0175 - prescription_output_loss: 5.9335\n",
      "Epoch 6/100\n",
      "\u001b[1m13/13\u001b[0m \u001b[32m━━━━━━━━━━━━━━━━━━━━\u001b[0m\u001b[37m\u001b[0m \u001b[1m1s\u001b[0m 42ms/step - disease_output_accuracy: 0.0370 - disease_output_loss: 4.8434 - loss: 10.7591 - prescription_output_accuracy: 0.0155 - prescription_output_loss: 5.9152   \n",
      "Epoch 7/100\n",
      "\u001b[1m13/13\u001b[0m \u001b[32m━━━━━━━━━━━━━━━━━━━━\u001b[0m\u001b[37m\u001b[0m \u001b[1m1s\u001b[0m 39ms/step - disease_output_accuracy: 0.0281 - disease_output_loss: 4.7408 - loss: 10.6036 - prescription_output_accuracy: 0.0274 - prescription_output_loss: 5.8626\n",
      "Epoch 8/100\n",
      "\u001b[1m13/13\u001b[0m \u001b[32m━━━━━━━━━━━━━━━━━━━━\u001b[0m\u001b[37m\u001b[0m \u001b[1m1s\u001b[0m 38ms/step - disease_output_accuracy: 0.0596 - disease_output_loss: 4.5774 - loss: 10.3767 - prescription_output_accuracy: 0.0219 - prescription_output_loss: 5.7989\n",
      "Epoch 9/100\n",
      "\u001b[1m13/13\u001b[0m \u001b[32m━━━━━━━━━━━━━━━━━━━━\u001b[0m\u001b[37m\u001b[0m \u001b[1m1s\u001b[0m 37ms/step - disease_output_accuracy: 0.0724 - disease_output_loss: 4.5293 - loss: 10.2347 - prescription_output_accuracy: 0.0274 - prescription_output_loss: 5.7064\n",
      "Epoch 10/100\n",
      "\u001b[1m13/13\u001b[0m \u001b[32m━━━━━━━━━━━━━━━━━━━━\u001b[0m\u001b[37m\u001b[0m \u001b[1m1s\u001b[0m 36ms/step - disease_output_accuracy: 0.0819 - disease_output_loss: 4.4101 - loss: 10.0546 - prescription_output_accuracy: 0.0291 - prescription_output_loss: 5.6443\n",
      "Epoch 11/100\n",
      "\u001b[1m13/13\u001b[0m \u001b[32m━━━━━━━━━━━━━━━━━━━━\u001b[0m\u001b[37m\u001b[0m \u001b[1m1s\u001b[0m 34ms/step - disease_output_accuracy: 0.0609 - disease_output_loss: 4.3791 - loss: 9.9623 - prescription_output_accuracy: 0.0106 - prescription_output_loss: 5.5829\n",
      "Epoch 12/100\n",
      "\u001b[1m13/13\u001b[0m \u001b[32m━━━━━━━━━━━━━━━━━━━━\u001b[0m\u001b[37m\u001b[0m \u001b[1m1s\u001b[0m 35ms/step - disease_output_accuracy: 0.0914 - disease_output_loss: 4.2816 - loss: 9.7816 - prescription_output_accuracy: 0.0195 - prescription_output_loss: 5.4997\n",
      "Epoch 13/100\n",
      "\u001b[1m13/13\u001b[0m \u001b[32m━━━━━━━━━━━━━━━━━━━━\u001b[0m\u001b[37m\u001b[0m \u001b[1m1s\u001b[0m 36ms/step - disease_output_accuracy: 0.0792 - disease_output_loss: 4.1851 - loss: 9.5832 - prescription_output_accuracy: 0.0203 - prescription_output_loss: 5.3988\n",
      "Epoch 14/100\n",
      "\u001b[1m13/13\u001b[0m \u001b[32m━━━━━━━━━━━━━━━━━━━━\u001b[0m\u001b[37m\u001b[0m \u001b[1m1s\u001b[0m 37ms/step - disease_output_accuracy: 0.0804 - disease_output_loss: 4.1296 - loss: 9.4346 - prescription_output_accuracy: 0.0278 - prescription_output_loss: 5.3065\n",
      "Epoch 15/100\n",
      "\u001b[1m13/13\u001b[0m \u001b[32m━━━━━━━━━━━━━━━━━━━━\u001b[0m\u001b[37m\u001b[0m \u001b[1m1s\u001b[0m 37ms/step - disease_output_accuracy: 0.0943 - disease_output_loss: 4.0134 - loss: 9.2615 - prescription_output_accuracy: 0.0250 - prescription_output_loss: 5.2474\n",
      "Epoch 16/100\n",
      "\u001b[1m13/13\u001b[0m \u001b[32m━━━━━━━━━━━━━━━━━━━━\u001b[0m\u001b[37m\u001b[0m \u001b[1m1s\u001b[0m 37ms/step - disease_output_accuracy: 0.0996 - disease_output_loss: 3.9437 - loss: 9.0777 - prescription_output_accuracy: 0.0262 - prescription_output_loss: 5.1320\n",
      "Epoch 17/100\n",
      "\u001b[1m13/13\u001b[0m \u001b[32m━━━━━━━━━━━━━━━━━━━━\u001b[0m\u001b[37m\u001b[0m \u001b[1m1s\u001b[0m 36ms/step - disease_output_accuracy: 0.1268 - disease_output_loss: 3.8074 - loss: 8.8593 - prescription_output_accuracy: 0.0484 - prescription_output_loss: 5.0519\n",
      "Epoch 18/100\n",
      "\u001b[1m13/13\u001b[0m \u001b[32m━━━━━━━━━━━━━━━━━━━━\u001b[0m\u001b[37m\u001b[0m \u001b[1m1s\u001b[0m 36ms/step - disease_output_accuracy: 0.1522 - disease_output_loss: 3.6589 - loss: 8.6135 - prescription_output_accuracy: 0.0508 - prescription_output_loss: 4.9552\n",
      "Epoch 19/100\n",
      "\u001b[1m13/13\u001b[0m \u001b[32m━━━━━━━━━━━━━━━━━━━━\u001b[0m\u001b[37m\u001b[0m \u001b[1m1s\u001b[0m 35ms/step - disease_output_accuracy: 0.1581 - disease_output_loss: 3.5922 - loss: 8.4781 - prescription_output_accuracy: 0.0501 - prescription_output_loss: 4.8856\n",
      "Epoch 20/100\n",
      "\u001b[1m13/13\u001b[0m \u001b[32m━━━━━━━━━━━━━━━━━━━━\u001b[0m\u001b[37m\u001b[0m \u001b[1m1s\u001b[0m 36ms/step - disease_output_accuracy: 0.1831 - disease_output_loss: 3.5390 - loss: 8.3741 - prescription_output_accuracy: 0.0447 - prescription_output_loss: 4.8353\n",
      "Epoch 21/100\n",
      "\u001b[1m13/13\u001b[0m \u001b[32m━━━━━━━━━━━━━━━━━━━━\u001b[0m\u001b[37m\u001b[0m \u001b[1m1s\u001b[0m 36ms/step - disease_output_accuracy: 0.1768 - disease_output_loss: 3.4972 - loss: 8.2811 - prescription_output_accuracy: 0.0519 - prescription_output_loss: 4.7856\n",
      "Epoch 22/100\n",
      "\u001b[1m13/13\u001b[0m \u001b[32m━━━━━━━━━━━━━━━━━━━━\u001b[0m\u001b[37m\u001b[0m \u001b[1m1s\u001b[0m 38ms/step - disease_output_accuracy: 0.2143 - disease_output_loss: 3.3364 - loss: 8.0369 - prescription_output_accuracy: 0.0738 - prescription_output_loss: 4.7012\n",
      "Epoch 23/100\n",
      "\u001b[1m13/13\u001b[0m \u001b[32m━━━━━━━━━━━━━━━━━━━━\u001b[0m\u001b[37m\u001b[0m \u001b[1m1s\u001b[0m 37ms/step - disease_output_accuracy: 0.1818 - disease_output_loss: 3.3686 - loss: 8.0316 - prescription_output_accuracy: 0.0608 - prescription_output_loss: 4.6634\n",
      "Epoch 24/100\n",
      "\u001b[1m13/13\u001b[0m \u001b[32m━━━━━━━━━━━━━━━━━━━━\u001b[0m\u001b[37m\u001b[0m \u001b[1m1s\u001b[0m 37ms/step - disease_output_accuracy: 0.2500 - disease_output_loss: 3.2202 - loss: 7.8009 - prescription_output_accuracy: 0.0811 - prescription_output_loss: 4.5815\n",
      "Epoch 25/100\n",
      "\u001b[1m13/13\u001b[0m \u001b[32m━━━━━━━━━━━━━━━━━━━━\u001b[0m\u001b[37m\u001b[0m \u001b[1m1s\u001b[0m 36ms/step - disease_output_accuracy: 0.1910 - disease_output_loss: 3.3199 - loss: 7.8610 - prescription_output_accuracy: 0.0647 - prescription_output_loss: 4.5395\n",
      "Epoch 26/100\n",
      "\u001b[1m13/13\u001b[0m \u001b[32m━━━━━━━━━━━━━━━━━━━━\u001b[0m\u001b[37m\u001b[0m \u001b[1m1s\u001b[0m 37ms/step - disease_output_accuracy: 0.2311 - disease_output_loss: 3.2567 - loss: 7.7344 - prescription_output_accuracy: 0.0916 - prescription_output_loss: 4.4769\n",
      "Epoch 27/100\n",
      "\u001b[1m13/13\u001b[0m \u001b[32m━━━━━━━━━━━━━━━━━━━━\u001b[0m\u001b[37m\u001b[0m \u001b[1m1s\u001b[0m 36ms/step - disease_output_accuracy: 0.2545 - disease_output_loss: 3.0575 - loss: 7.4440 - prescription_output_accuracy: 0.1075 - prescription_output_loss: 4.3870\n",
      "Epoch 28/100\n",
      "\u001b[1m13/13\u001b[0m \u001b[32m━━━━━━━━━━━━━━━━━━━━\u001b[0m\u001b[37m\u001b[0m \u001b[1m1s\u001b[0m 37ms/step - disease_output_accuracy: 0.2746 - disease_output_loss: 3.0297 - loss: 7.3402 - prescription_output_accuracy: 0.0927 - prescription_output_loss: 4.3124\n",
      "Epoch 29/100\n",
      "\u001b[1m13/13\u001b[0m \u001b[32m━━━━━━━━━━━━━━━━━━━━\u001b[0m\u001b[37m\u001b[0m \u001b[1m1s\u001b[0m 37ms/step - disease_output_accuracy: 0.2840 - disease_output_loss: 2.9640 - loss: 7.2239 - prescription_output_accuracy: 0.1180 - prescription_output_loss: 4.2596\n",
      "Epoch 30/100\n",
      "\u001b[1m13/13\u001b[0m \u001b[32m━━━━━━━━━━━━━━━━━━━━\u001b[0m\u001b[37m\u001b[0m \u001b[1m1s\u001b[0m 35ms/step - disease_output_accuracy: 0.2759 - disease_output_loss: 2.9041 - loss: 7.0743 - prescription_output_accuracy: 0.0958 - prescription_output_loss: 4.1709\n",
      "Epoch 31/100\n",
      "\u001b[1m13/13\u001b[0m \u001b[32m━━━━━━━━━━━━━━━━━━━━\u001b[0m\u001b[37m\u001b[0m \u001b[1m1s\u001b[0m 34ms/step - disease_output_accuracy: 0.2806 - disease_output_loss: 2.8874 - loss: 6.9962 - prescription_output_accuracy: 0.1725 - prescription_output_loss: 4.1104\n",
      "Epoch 32/100\n",
      "\u001b[1m13/13\u001b[0m \u001b[32m━━━━━━━━━━━━━━━━━━━━\u001b[0m\u001b[37m\u001b[0m \u001b[1m1s\u001b[0m 34ms/step - disease_output_accuracy: 0.3576 - disease_output_loss: 2.7249 - loss: 6.7790 - prescription_output_accuracy: 0.1571 - prescription_output_loss: 4.0558\n",
      "Epoch 33/100\n",
      "\u001b[1m13/13\u001b[0m \u001b[32m━━━━━━━━━━━━━━━━━━━━\u001b[0m\u001b[37m\u001b[0m \u001b[1m1s\u001b[0m 34ms/step - disease_output_accuracy: 0.3121 - disease_output_loss: 2.6949 - loss: 6.6729 - prescription_output_accuracy: 0.1575 - prescription_output_loss: 3.9780\n",
      "Epoch 34/100\n",
      "\u001b[1m13/13\u001b[0m \u001b[32m━━━━━━━━━━━━━━━━━━━━\u001b[0m\u001b[37m\u001b[0m \u001b[1m1s\u001b[0m 38ms/step - disease_output_accuracy: 0.3968 - disease_output_loss: 2.5384 - loss: 6.4425 - prescription_output_accuracy: 0.1761 - prescription_output_loss: 3.9051\n",
      "Epoch 35/100\n",
      "\u001b[1m13/13\u001b[0m \u001b[32m━━━━━━━━━━━━━━━━━━━━\u001b[0m\u001b[37m\u001b[0m \u001b[1m1s\u001b[0m 35ms/step - disease_output_accuracy: 0.3463 - disease_output_loss: 2.6631 - loss: 6.5395 - prescription_output_accuracy: 0.1728 - prescription_output_loss: 3.8750\n",
      "Epoch 36/100\n",
      "\u001b[1m13/13\u001b[0m \u001b[32m━━━━━━━━━━━━━━━━━━━━\u001b[0m\u001b[37m\u001b[0m \u001b[1m1s\u001b[0m 34ms/step - disease_output_accuracy: 0.4133 - disease_output_loss: 2.5769 - loss: 6.3893 - prescription_output_accuracy: 0.2060 - prescription_output_loss: 3.8113\n",
      "Epoch 37/100\n",
      "\u001b[1m13/13\u001b[0m \u001b[32m━━━━━━━━━━━━━━━━━━━━\u001b[0m\u001b[37m\u001b[0m \u001b[1m1s\u001b[0m 36ms/step - disease_output_accuracy: 0.4162 - disease_output_loss: 2.4910 - loss: 6.2406 - prescription_output_accuracy: 0.2172 - prescription_output_loss: 3.7505\n",
      "Epoch 38/100\n",
      "\u001b[1m13/13\u001b[0m \u001b[32m━━━━━━━━━━━━━━━━━━━━\u001b[0m\u001b[37m\u001b[0m \u001b[1m1s\u001b[0m 37ms/step - disease_output_accuracy: 0.4562 - disease_output_loss: 2.3642 - loss: 6.0276 - prescription_output_accuracy: 0.2346 - prescription_output_loss: 3.6655\n",
      "Epoch 39/100\n",
      "\u001b[1m13/13\u001b[0m \u001b[32m━━━━━━━━━━━━━━━━━━━━\u001b[0m\u001b[37m\u001b[0m \u001b[1m1s\u001b[0m 36ms/step - disease_output_accuracy: 0.4466 - disease_output_loss: 2.3720 - loss: 6.0015 - prescription_output_accuracy: 0.2566 - prescription_output_loss: 3.6305\n",
      "Epoch 40/100\n",
      "\u001b[1m13/13\u001b[0m \u001b[32m━━━━━━━━━━━━━━━━━━━━\u001b[0m\u001b[37m\u001b[0m \u001b[1m0s\u001b[0m 24ms/step - disease_output_accuracy: 0.4579 - disease_output_loss: 2.3399 - loss: 5.9155 - prescription_output_accuracy: 0.2479 - prescription_output_loss: 3.5756\n",
      "Epoch 41/100\n",
      "\u001b[1m13/13\u001b[0m \u001b[32m━━━━━━━━━━━━━━━━━━━━\u001b[0m\u001b[37m\u001b[0m \u001b[1m0s\u001b[0m 27ms/step - disease_output_accuracy: 0.4666 - disease_output_loss: 2.2676 - loss: 5.7551 - prescription_output_accuracy: 0.3077 - prescription_output_loss: 3.4882\n",
      "Epoch 42/100\n",
      "\u001b[1m13/13\u001b[0m \u001b[32m━━━━━━━━━━━━━━━━━━━━\u001b[0m\u001b[37m\u001b[0m \u001b[1m1s\u001b[0m 39ms/step - disease_output_accuracy: 0.4038 - disease_output_loss: 2.3440 - loss: 5.8416 - prescription_output_accuracy: 0.2796 - prescription_output_loss: 3.4991\n",
      "Epoch 43/100\n",
      "\u001b[1m13/13\u001b[0m \u001b[32m━━━━━━━━━━━━━━━━━━━━\u001b[0m\u001b[37m\u001b[0m \u001b[1m1s\u001b[0m 57ms/step - disease_output_accuracy: 0.4884 - disease_output_loss: 2.1585 - loss: 5.5766 - prescription_output_accuracy: 0.3053 - prescription_output_loss: 3.4186\n",
      "Epoch 44/100\n",
      "\u001b[1m13/13\u001b[0m \u001b[32m━━━━━━━━━━━━━━━━━━━━\u001b[0m\u001b[37m\u001b[0m \u001b[1m0s\u001b[0m 21ms/step - disease_output_accuracy: 0.4688 - disease_output_loss: 2.2033 - loss: 5.6213 - prescription_output_accuracy: 0.2890 - prescription_output_loss: 3.4185\n",
      "Epoch 45/100\n",
      "\u001b[1m13/13\u001b[0m \u001b[32m━━━━━━━━━━━━━━━━━━━━\u001b[0m\u001b[37m\u001b[0m \u001b[1m0s\u001b[0m 23ms/step - disease_output_accuracy: 0.4722 - disease_output_loss: 2.1355 - loss: 5.4546 - prescription_output_accuracy: 0.3723 - prescription_output_loss: 3.3206\n",
      "Epoch 46/100\n",
      "\u001b[1m13/13\u001b[0m \u001b[32m━━━━━━━━━━━━━━━━━━━━\u001b[0m\u001b[37m\u001b[0m \u001b[1m0s\u001b[0m 25ms/step - disease_output_accuracy: 0.5155 - disease_output_loss: 2.1002 - loss: 5.3838 - prescription_output_accuracy: 0.3220 - prescription_output_loss: 3.2824\n",
      "Epoch 47/100\n",
      "\u001b[1m13/13\u001b[0m \u001b[32m━━━━━━━━━━━━━━━━━━━━\u001b[0m\u001b[37m\u001b[0m \u001b[1m0s\u001b[0m 14ms/step - disease_output_accuracy: 0.5552 - disease_output_loss: 2.0002 - loss: 5.2608 - prescription_output_accuracy: 0.3354 - prescription_output_loss: 3.2613\n",
      "Epoch 48/100\n",
      "\u001b[1m13/13\u001b[0m \u001b[32m━━━━━━━━━━━━━━━━━━━━\u001b[0m\u001b[37m\u001b[0m \u001b[1m0s\u001b[0m 13ms/step - disease_output_accuracy: 0.4943 - disease_output_loss: 2.0094 - loss: 5.2323 - prescription_output_accuracy: 0.3632 - prescription_output_loss: 3.2234\n",
      "Epoch 49/100\n",
      "\u001b[1m13/13\u001b[0m \u001b[32m━━━━━━━━━━━━━━━━━━━━\u001b[0m\u001b[37m\u001b[0m \u001b[1m0s\u001b[0m 16ms/step - disease_output_accuracy: 0.5682 - disease_output_loss: 1.9311 - loss: 5.0817 - prescription_output_accuracy: 0.4177 - prescription_output_loss: 3.1499\n",
      "Epoch 50/100\n",
      "\u001b[1m13/13\u001b[0m \u001b[32m━━━━━━━━━━━━━━━━━━━━\u001b[0m\u001b[37m\u001b[0m \u001b[1m0s\u001b[0m 22ms/step - disease_output_accuracy: 0.5322 - disease_output_loss: 1.9931 - loss: 5.1228 - prescription_output_accuracy: 0.4032 - prescription_output_loss: 3.1290\n",
      "Epoch 51/100\n",
      "\u001b[1m13/13\u001b[0m \u001b[32m━━━━━━━━━━━━━━━━━━━━\u001b[0m\u001b[37m\u001b[0m \u001b[1m0s\u001b[0m 20ms/step - disease_output_accuracy: 0.5770 - disease_output_loss: 1.8348 - loss: 4.9322 - prescription_output_accuracy: 0.3917 - prescription_output_loss: 3.0982\n",
      "Epoch 52/100\n",
      "\u001b[1m13/13\u001b[0m \u001b[32m━━━━━━━━━━━━━━━━━━━━\u001b[0m\u001b[37m\u001b[0m \u001b[1m0s\u001b[0m 22ms/step - disease_output_accuracy: 0.5942 - disease_output_loss: 1.8328 - loss: 4.8824 - prescription_output_accuracy: 0.3935 - prescription_output_loss: 3.0509\n",
      "Epoch 53/100\n",
      "\u001b[1m13/13\u001b[0m \u001b[32m━━━━━━━━━━━━━━━━━━━━\u001b[0m\u001b[37m\u001b[0m \u001b[1m0s\u001b[0m 21ms/step - disease_output_accuracy: 0.5562 - disease_output_loss: 1.8767 - loss: 4.8700 - prescription_output_accuracy: 0.4155 - prescription_output_loss: 2.9936\n",
      "Epoch 54/100\n",
      "\u001b[1m13/13\u001b[0m \u001b[32m━━━━━━━━━━━━━━━━━━━━\u001b[0m\u001b[37m\u001b[0m \u001b[1m0s\u001b[0m 21ms/step - disease_output_accuracy: 0.5907 - disease_output_loss: 1.8021 - loss: 4.7755 - prescription_output_accuracy: 0.4094 - prescription_output_loss: 2.9733\n",
      "Epoch 55/100\n",
      "\u001b[1m13/13\u001b[0m \u001b[32m━━━━━━━━━━━━━━━━━━━━\u001b[0m\u001b[37m\u001b[0m \u001b[1m0s\u001b[0m 20ms/step - disease_output_accuracy: 0.6385 - disease_output_loss: 1.7044 - loss: 4.5526 - prescription_output_accuracy: 0.4663 - prescription_output_loss: 2.8489\n",
      "Epoch 56/100\n",
      "\u001b[1m13/13\u001b[0m \u001b[32m━━━━━━━━━━━━━━━━━━━━\u001b[0m\u001b[37m\u001b[0m \u001b[1m0s\u001b[0m 21ms/step - disease_output_accuracy: 0.6360 - disease_output_loss: 1.6279 - loss: 4.4201 - prescription_output_accuracy: 0.4823 - prescription_output_loss: 2.7929\n",
      "Epoch 57/100\n",
      "\u001b[1m13/13\u001b[0m \u001b[32m━━━━━━━━━━━━━━━━━━━━\u001b[0m\u001b[37m\u001b[0m \u001b[1m0s\u001b[0m 20ms/step - disease_output_accuracy: 0.6512 - disease_output_loss: 1.6666 - loss: 4.4968 - prescription_output_accuracy: 0.5359 - prescription_output_loss: 2.8295\n",
      "Epoch 58/100\n",
      "\u001b[1m13/13\u001b[0m \u001b[32m━━━━━━━━━━━━━━━━━━━━\u001b[0m\u001b[37m\u001b[0m \u001b[1m0s\u001b[0m 22ms/step - disease_output_accuracy: 0.6461 - disease_output_loss: 1.6027 - loss: 4.3435 - prescription_output_accuracy: 0.5127 - prescription_output_loss: 2.7408\n",
      "Epoch 59/100\n",
      "\u001b[1m13/13\u001b[0m \u001b[32m━━━━━━━━━━━━━━━━━━━━\u001b[0m\u001b[37m\u001b[0m \u001b[1m0s\u001b[0m 20ms/step - disease_output_accuracy: 0.6683 - disease_output_loss: 1.5615 - loss: 4.2123 - prescription_output_accuracy: 0.5503 - prescription_output_loss: 2.6513\n",
      "Epoch 60/100\n",
      "\u001b[1m13/13\u001b[0m \u001b[32m━━━━━━━━━━━━━━━━━━━━\u001b[0m\u001b[37m\u001b[0m \u001b[1m0s\u001b[0m 21ms/step - disease_output_accuracy: 0.6915 - disease_output_loss: 1.4625 - loss: 4.0980 - prescription_output_accuracy: 0.5646 - prescription_output_loss: 2.6351\n",
      "Epoch 61/100\n",
      "\u001b[1m13/13\u001b[0m \u001b[32m━━━━━━━━━━━━━━━━━━━━\u001b[0m\u001b[37m\u001b[0m \u001b[1m0s\u001b[0m 21ms/step - disease_output_accuracy: 0.7059 - disease_output_loss: 1.4786 - loss: 4.1316 - prescription_output_accuracy: 0.5683 - prescription_output_loss: 2.6537\n",
      "Epoch 62/100\n",
      "\u001b[1m13/13\u001b[0m \u001b[32m━━━━━━━━━━━━━━━━━━━━\u001b[0m\u001b[37m\u001b[0m \u001b[1m0s\u001b[0m 21ms/step - disease_output_accuracy: 0.7493 - disease_output_loss: 1.3823 - loss: 3.9503 - prescription_output_accuracy: 0.5739 - prescription_output_loss: 2.5686\n",
      "Epoch 63/100\n",
      "\u001b[1m13/13\u001b[0m \u001b[32m━━━━━━━━━━━━━━━━━━━━\u001b[0m\u001b[37m\u001b[0m \u001b[1m0s\u001b[0m 20ms/step - disease_output_accuracy: 0.6883 - disease_output_loss: 1.4886 - loss: 4.0842 - prescription_output_accuracy: 0.5899 - prescription_output_loss: 2.5952\n",
      "Epoch 64/100\n",
      "\u001b[1m13/13\u001b[0m \u001b[32m━━━━━━━━━━━━━━━━━━━━\u001b[0m\u001b[37m\u001b[0m \u001b[1m0s\u001b[0m 22ms/step - disease_output_accuracy: 0.6890 - disease_output_loss: 1.4036 - loss: 3.9019 - prescription_output_accuracy: 0.5944 - prescription_output_loss: 2.4982\n",
      "Epoch 65/100\n",
      "\u001b[1m13/13\u001b[0m \u001b[32m━━━━━━━━━━━━━━━━━━━━\u001b[0m\u001b[37m\u001b[0m \u001b[1m0s\u001b[0m 20ms/step - disease_output_accuracy: 0.7267 - disease_output_loss: 1.3981 - loss: 3.8980 - prescription_output_accuracy: 0.5614 - prescription_output_loss: 2.4999\n",
      "Epoch 66/100\n",
      "\u001b[1m13/13\u001b[0m \u001b[32m━━━━━━━━━━━━━━━━━━━━\u001b[0m\u001b[37m\u001b[0m \u001b[1m0s\u001b[0m 22ms/step - disease_output_accuracy: 0.7260 - disease_output_loss: 1.3774 - loss: 3.8603 - prescription_output_accuracy: 0.5361 - prescription_output_loss: 2.4820\n",
      "Epoch 67/100\n",
      "\u001b[1m13/13\u001b[0m \u001b[32m━━━━━━━━━━━━━━━━━━━━\u001b[0m\u001b[37m\u001b[0m \u001b[1m0s\u001b[0m 20ms/step - disease_output_accuracy: 0.7165 - disease_output_loss: 1.3584 - loss: 3.7489 - prescription_output_accuracy: 0.5823 - prescription_output_loss: 2.3901\n",
      "Epoch 68/100\n",
      "\u001b[1m13/13\u001b[0m \u001b[32m━━━━━━━━━━━━━━━━━━━━\u001b[0m\u001b[37m\u001b[0m \u001b[1m0s\u001b[0m 22ms/step - disease_output_accuracy: 0.7309 - disease_output_loss: 1.3113 - loss: 3.7227 - prescription_output_accuracy: 0.5757 - prescription_output_loss: 2.4106\n",
      "Epoch 69/100\n",
      "\u001b[1m13/13\u001b[0m \u001b[32m━━━━━━━━━━━━━━━━━━━━\u001b[0m\u001b[37m\u001b[0m \u001b[1m0s\u001b[0m 23ms/step - disease_output_accuracy: 0.7474 - disease_output_loss: 1.2895 - loss: 3.6574 - prescription_output_accuracy: 0.5891 - prescription_output_loss: 2.3682\n",
      "Epoch 70/100\n",
      "\u001b[1m13/13\u001b[0m \u001b[32m━━━━━━━━━━━━━━━━━━━━\u001b[0m\u001b[37m\u001b[0m \u001b[1m0s\u001b[0m 24ms/step - disease_output_accuracy: 0.7658 - disease_output_loss: 1.2465 - loss: 3.5775 - prescription_output_accuracy: 0.5848 - prescription_output_loss: 2.3311\n",
      "Epoch 71/100\n",
      "\u001b[1m13/13\u001b[0m \u001b[32m━━━━━━━━━━━━━━━━━━━━\u001b[0m\u001b[37m\u001b[0m \u001b[1m0s\u001b[0m 24ms/step - disease_output_accuracy: 0.7337 - disease_output_loss: 1.2432 - loss: 3.5252 - prescription_output_accuracy: 0.5967 - prescription_output_loss: 2.2824\n",
      "Epoch 72/100\n",
      "\u001b[1m13/13\u001b[0m \u001b[32m━━━━━━━━━━━━━━━━━━━━\u001b[0m\u001b[37m\u001b[0m \u001b[1m0s\u001b[0m 23ms/step - disease_output_accuracy: 0.7545 - disease_output_loss: 1.2799 - loss: 3.4991 - prescription_output_accuracy: 0.6515 - prescription_output_loss: 2.2190\n",
      "Epoch 73/100\n",
      "\u001b[1m13/13\u001b[0m \u001b[32m━━━━━━━━━━━━━━━━━━━━\u001b[0m\u001b[37m\u001b[0m \u001b[1m0s\u001b[0m 23ms/step - disease_output_accuracy: 0.7607 - disease_output_loss: 1.1997 - loss: 3.3829 - prescription_output_accuracy: 0.6328 - prescription_output_loss: 2.1830\n",
      "Epoch 74/100\n",
      "\u001b[1m13/13\u001b[0m \u001b[32m━━━━━━━━━━━━━━━━━━━━\u001b[0m\u001b[37m\u001b[0m \u001b[1m1s\u001b[0m 24ms/step - disease_output_accuracy: 0.7472 - disease_output_loss: 1.1797 - loss: 3.3629 - prescription_output_accuracy: 0.6331 - prescription_output_loss: 2.1836\n",
      "Epoch 75/100\n",
      "\u001b[1m13/13\u001b[0m \u001b[32m━━━━━━━━━━━━━━━━━━━━\u001b[0m\u001b[37m\u001b[0m \u001b[1m0s\u001b[0m 23ms/step - disease_output_accuracy: 0.7688 - disease_output_loss: 1.1837 - loss: 3.3500 - prescription_output_accuracy: 0.6208 - prescription_output_loss: 2.1672\n",
      "Epoch 76/100\n",
      "\u001b[1m13/13\u001b[0m \u001b[32m━━━━━━━━━━━━━━━━━━━━\u001b[0m\u001b[37m\u001b[0m \u001b[1m0s\u001b[0m 20ms/step - disease_output_accuracy: 0.7454 - disease_output_loss: 1.1760 - loss: 3.3766 - prescription_output_accuracy: 0.5772 - prescription_output_loss: 2.2005\n",
      "Epoch 77/100\n",
      "\u001b[1m13/13\u001b[0m \u001b[32m━━━━━━━━━━━━━━━━━━━━\u001b[0m\u001b[37m\u001b[0m \u001b[1m0s\u001b[0m 24ms/step - disease_output_accuracy: 0.7666 - disease_output_loss: 1.1325 - loss: 3.3046 - prescription_output_accuracy: 0.6023 - prescription_output_loss: 2.1720\n",
      "Epoch 78/100\n",
      "\u001b[1m13/13\u001b[0m \u001b[32m━━━━━━━━━━━━━━━━━━━━\u001b[0m\u001b[37m\u001b[0m \u001b[1m0s\u001b[0m 23ms/step - disease_output_accuracy: 0.7632 - disease_output_loss: 1.1509 - loss: 3.2172 - prescription_output_accuracy: 0.6568 - prescription_output_loss: 2.0671\n",
      "Epoch 79/100\n",
      "\u001b[1m13/13\u001b[0m \u001b[32m━━━━━━━━━━━━━━━━━━━━\u001b[0m\u001b[37m\u001b[0m \u001b[1m0s\u001b[0m 23ms/step - disease_output_accuracy: 0.7583 - disease_output_loss: 1.1026 - loss: 3.1786 - prescription_output_accuracy: 0.6506 - prescription_output_loss: 2.0762\n",
      "Epoch 80/100\n",
      "\u001b[1m13/13\u001b[0m \u001b[32m━━━━━━━━━━━━━━━━━━━━\u001b[0m\u001b[37m\u001b[0m \u001b[1m0s\u001b[0m 23ms/step - disease_output_accuracy: 0.8123 - disease_output_loss: 1.0506 - loss: 3.0327 - prescription_output_accuracy: 0.7132 - prescription_output_loss: 1.9821\n",
      "Epoch 81/100\n",
      "\u001b[1m13/13\u001b[0m \u001b[32m━━━━━━━━━━━━━━━━━━━━\u001b[0m\u001b[37m\u001b[0m \u001b[1m0s\u001b[0m 23ms/step - disease_output_accuracy: 0.8178 - disease_output_loss: 1.0434 - loss: 3.0112 - prescription_output_accuracy: 0.6776 - prescription_output_loss: 1.9687\n",
      "Epoch 82/100\n",
      "\u001b[1m13/13\u001b[0m \u001b[32m━━━━━━━━━━━━━━━━━━━━\u001b[0m\u001b[37m\u001b[0m \u001b[1m0s\u001b[0m 23ms/step - disease_output_accuracy: 0.7897 - disease_output_loss: 1.0304 - loss: 2.9080 - prescription_output_accuracy: 0.7487 - prescription_output_loss: 1.8774\n",
      "Epoch 83/100\n",
      "\u001b[1m13/13\u001b[0m \u001b[32m━━━━━━━━━━━━━━━━━━━━\u001b[0m\u001b[37m\u001b[0m \u001b[1m0s\u001b[0m 23ms/step - disease_output_accuracy: 0.8315 - disease_output_loss: 0.9312 - loss: 2.8498 - prescription_output_accuracy: 0.6779 - prescription_output_loss: 1.9183\n",
      "Epoch 84/100\n",
      "\u001b[1m13/13\u001b[0m \u001b[32m━━━━━━━━━━━━━━━━━━━━\u001b[0m\u001b[37m\u001b[0m \u001b[1m0s\u001b[0m 24ms/step - disease_output_accuracy: 0.8253 - disease_output_loss: 0.9231 - loss: 2.7367 - prescription_output_accuracy: 0.7594 - prescription_output_loss: 1.8141\n",
      "Epoch 85/100\n",
      "\u001b[1m13/13\u001b[0m \u001b[32m━━━━━━━━━━━━━━━━━━━━\u001b[0m\u001b[37m\u001b[0m \u001b[1m0s\u001b[0m 23ms/step - disease_output_accuracy: 0.8499 - disease_output_loss: 0.9172 - loss: 2.7687 - prescription_output_accuracy: 0.7242 - prescription_output_loss: 1.8524\n",
      "Epoch 86/100\n",
      "\u001b[1m13/13\u001b[0m \u001b[32m━━━━━━━━━━━━━━━━━━━━\u001b[0m\u001b[37m\u001b[0m \u001b[1m0s\u001b[0m 24ms/step - disease_output_accuracy: 0.8636 - disease_output_loss: 0.9154 - loss: 2.6911 - prescription_output_accuracy: 0.7554 - prescription_output_loss: 1.7766\n",
      "Epoch 87/100\n",
      "\u001b[1m13/13\u001b[0m \u001b[32m━━━━━━━━━━━━━━━━━━━━\u001b[0m\u001b[37m\u001b[0m \u001b[1m0s\u001b[0m 24ms/step - disease_output_accuracy: 0.8387 - disease_output_loss: 0.9260 - loss: 2.6988 - prescription_output_accuracy: 0.7592 - prescription_output_loss: 1.7732\n",
      "Epoch 88/100\n",
      "\u001b[1m13/13\u001b[0m \u001b[32m━━━━━━━━━━━━━━━━━━━━\u001b[0m\u001b[37m\u001b[0m \u001b[1m0s\u001b[0m 24ms/step - disease_output_accuracy: 0.8648 - disease_output_loss: 0.8791 - loss: 2.6119 - prescription_output_accuracy: 0.7780 - prescription_output_loss: 1.7332\n",
      "Epoch 89/100\n",
      "\u001b[1m13/13\u001b[0m \u001b[32m━━━━━━━━━━━━━━━━━━━━\u001b[0m\u001b[37m\u001b[0m \u001b[1m0s\u001b[0m 23ms/step - disease_output_accuracy: 0.8479 - disease_output_loss: 0.9078 - loss: 2.6290 - prescription_output_accuracy: 0.7309 - prescription_output_loss: 1.7212\n",
      "Epoch 90/100\n",
      "\u001b[1m13/13\u001b[0m \u001b[32m━━━━━━━━━━━━━━━━━━━━\u001b[0m\u001b[37m\u001b[0m \u001b[1m0s\u001b[0m 20ms/step - disease_output_accuracy: 0.8608 - disease_output_loss: 0.8991 - loss: 2.6379 - prescription_output_accuracy: 0.7394 - prescription_output_loss: 1.7389\n",
      "Epoch 91/100\n",
      "\u001b[1m13/13\u001b[0m \u001b[32m━━━━━━━━━━━━━━━━━━━━\u001b[0m\u001b[37m\u001b[0m \u001b[1m0s\u001b[0m 24ms/step - disease_output_accuracy: 0.8436 - disease_output_loss: 0.8836 - loss: 2.6473 - prescription_output_accuracy: 0.7236 - prescription_output_loss: 1.7646\n",
      "Epoch 92/100\n",
      "\u001b[1m13/13\u001b[0m \u001b[32m━━━━━━━━━━━━━━━━━━━━\u001b[0m\u001b[37m\u001b[0m \u001b[1m0s\u001b[0m 22ms/step - disease_output_accuracy: 0.8791 - disease_output_loss: 0.8579 - loss: 2.5728 - prescription_output_accuracy: 0.6877 - prescription_output_loss: 1.7146\n",
      "Epoch 93/100\n",
      "\u001b[1m13/13\u001b[0m \u001b[32m━━━━━━━━━━━━━━━━━━━━\u001b[0m\u001b[37m\u001b[0m \u001b[1m0s\u001b[0m 24ms/step - disease_output_accuracy: 0.8698 - disease_output_loss: 0.8654 - loss: 2.5737 - prescription_output_accuracy: 0.7549 - prescription_output_loss: 1.7090\n",
      "Epoch 94/100\n",
      "\u001b[1m13/13\u001b[0m \u001b[32m━━━━━━━━━━━━━━━━━━━━\u001b[0m\u001b[37m\u001b[0m \u001b[1m0s\u001b[0m 24ms/step - disease_output_accuracy: 0.8513 - disease_output_loss: 0.8315 - loss: 2.5394 - prescription_output_accuracy: 0.7426 - prescription_output_loss: 1.7079\n",
      "Epoch 95/100\n",
      "\u001b[1m13/13\u001b[0m \u001b[32m━━━━━━━━━━━━━━━━━━━━\u001b[0m\u001b[37m\u001b[0m \u001b[1m0s\u001b[0m 20ms/step - disease_output_accuracy: 0.8714 - disease_output_loss: 0.8098 - loss: 2.4485 - prescription_output_accuracy: 0.7466 - prescription_output_loss: 1.6395\n",
      "Epoch 96/100\n",
      "\u001b[1m13/13\u001b[0m \u001b[32m━━━━━━━━━━━━━━━━━━━━\u001b[0m\u001b[37m\u001b[0m \u001b[1m0s\u001b[0m 23ms/step - disease_output_accuracy: 0.8551 - disease_output_loss: 0.8430 - loss: 2.5200 - prescription_output_accuracy: 0.7344 - prescription_output_loss: 1.6761\n",
      "Epoch 97/100\n",
      "\u001b[1m13/13\u001b[0m \u001b[32m━━━━━━━━━━━━━━━━━━━━\u001b[0m\u001b[37m\u001b[0m \u001b[1m0s\u001b[0m 23ms/step - disease_output_accuracy: 0.8603 - disease_output_loss: 0.8375 - loss: 2.4865 - prescription_output_accuracy: 0.7345 - prescription_output_loss: 1.6494\n",
      "Epoch 98/100\n",
      "\u001b[1m13/13\u001b[0m \u001b[32m━━━━━━━━━━━━━━━━━━━━\u001b[0m\u001b[37m\u001b[0m \u001b[1m0s\u001b[0m 23ms/step - disease_output_accuracy: 0.8773 - disease_output_loss: 0.8056 - loss: 2.4181 - prescription_output_accuracy: 0.7460 - prescription_output_loss: 1.6126\n",
      "Epoch 99/100\n",
      "\u001b[1m13/13\u001b[0m \u001b[32m━━━━━━━━━━━━━━━━━━━━\u001b[0m\u001b[37m\u001b[0m \u001b[1m0s\u001b[0m 24ms/step - disease_output_accuracy: 0.8841 - disease_output_loss: 0.7635 - loss: 2.2992 - prescription_output_accuracy: 0.7941 - prescription_output_loss: 1.5356\n",
      "Epoch 100/100\n",
      "\u001b[1m13/13\u001b[0m \u001b[32m━━━━━━━━━━━━━━━━━━━━\u001b[0m\u001b[37m\u001b[0m \u001b[1m0s\u001b[0m 24ms/step - disease_output_accuracy: 0.8720 - disease_output_loss: 0.7939 - loss: 2.4036 - prescription_output_accuracy: 0.7364 - prescription_output_loss: 1.6094\n"
     ]
    },
    {
     "data": {
      "text/plain": [
       "<keras.src.callbacks.history.History at 0x1cd089ccda0>"
      ]
     },
     "execution_count": 9,
     "metadata": {},
     "output_type": "execute_result"
    }
   ],
   "source": [
    "model.fit(padded_sequences, {'disease_output': disease_labels_categorical, 'prescription_output': prescription_labels_categorical}, epochs=100, batch_size=32)"
   ]
  },
  {
   "cell_type": "code",
   "execution_count": 10,
   "id": "29fac87f-7add-4d77-a89c-a24d6dda5121",
   "metadata": {},
   "outputs": [
    {
     "name": "stdout",
     "output_type": "stream",
     "text": [
      "\u001b[1m1/1\u001b[0m \u001b[32m━━━━━━━━━━━━━━━━━━━━\u001b[0m\u001b[37m\u001b[0m \u001b[1m1s\u001b[0m 548ms/step\n",
      "Predicted Disease: Pleurisy\n",
      "Suggested Prescription: NSAIDs; rest; consult if persistent.\n"
     ]
    }
   ],
   "source": [
    "def make_prediction(patient_problem):\n",
    "    sequence=tokenizer.texts_to_sequences([patient_problem])\n",
    "    padded_sequence= pad_sequences(sequence, maxlen=max_length, padding='post')\n",
    "\n",
    "    prediction=model.predict(padded_sequence)\n",
    "\n",
    "    disease_index= np.argmax(prediction[0], axis=1)[0]\n",
    "    prescription_index= np.argmax(prediction[1], axis=1)[0]\n",
    "\n",
    "    disease_predicted= label_encoder_disease.inverse_transform([disease_index])[0]\n",
    "    prescription_predicted= label_encoder_prescription.inverse_transform([prescription_index])[0]\n",
    "\n",
    "    print(f\"Predicted Disease: {disease_predicted}\")\n",
    "    print(f\"Suggested Prescription: {prescription_predicted}\")\n",
    "\n",
    "patient_input= \"I've experienced a loss of appetite and don't enjoy food anymore.\"\n",
    "make_prediction(patient_input)\n"
   ]
  },
  {
   "cell_type": "code",
   "execution_count": 22,
   "id": "438fa2c4-48f5-4bfa-a15f-7a15384adffc",
   "metadata": {},
   "outputs": [
    {
     "name": "stderr",
     "output_type": "stream",
     "text": [
      "WARNING:absl:You are saving your model as an HDF5 file via `model.save()` or `keras.saving.save_model(model)`. This file format is considered legacy. We recommend using instead the native Keras format, e.g. `model.save('my_model.keras')` or `keras.saving.save_model(model, 'my_model.keras')`. \n"
     ]
    }
   ],
   "source": [
    "model.save('pred.h5')"
   ]
  },
  {
   "cell_type": "code",
   "execution_count": null,
   "id": "b34b73b4-1d4b-48e2-a0ae-8d6d15998085",
   "metadata": {},
   "outputs": [],
   "source": []
  }
 ],
 "metadata": {
  "kernelspec": {
   "display_name": "Python 3 (ipykernel)",
   "language": "python",
   "name": "python3"
  },
  "language_info": {
   "codemirror_mode": {
    "name": "ipython",
    "version": 3
   },
   "file_extension": ".py",
   "mimetype": "text/x-python",
   "name": "python",
   "nbconvert_exporter": "python",
   "pygments_lexer": "ipython3",
   "version": "3.12.4"
  }
 },
 "nbformat": 4,
 "nbformat_minor": 5
}
